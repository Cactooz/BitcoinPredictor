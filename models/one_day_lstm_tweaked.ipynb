{
 "cells": [
  {
   "cell_type": "markdown",
   "metadata": {},
   "source": [
    "Add imports, define variables and load the dataset"
   ]
  },
  {
   "cell_type": "code",
   "execution_count": 87,
   "metadata": {},
   "outputs": [
    {
     "name": "stdout",
     "output_type": "stream",
     "text": [
      "Using device: cuda\n",
      "Data range: 2013-12-27 00:00:00 to 2025-04-01 00:00:00\n",
      "Total samples: 4114\n"
     ]
    }
   ],
   "source": [
    "import pandas as pd\n",
    "import numpy as np\n",
    "import matplotlib.pyplot as plt\n",
    "import torch\n",
    "import torch.nn as nn\n",
    "from torch.utils.data import Dataset, DataLoader\n",
    "from sklearn.preprocessing import MinMaxScaler\n",
    "\n",
    "torch.manual_seed(0)\n",
    "torch.cuda.manual_seed(0)\n",
    "torch.cuda.manual_seed_all(0)\n",
    "torch.mps.manual_seed(0)\n",
    "np.random.seed(0)\n",
    "\n",
    "BATCH_SIZE = 128\n",
    "LOOKBACK_LENGTH = 14\n",
    "TEST_LENGTH = 365\n",
    "DROPOUT = 0.2\n",
    "HIDDEN_SIZE = 256\n",
    "NUM_LAYERS = 4\n",
    "OUTPUT_SIZE = 1\n",
    "LEARNING_RATE = 0.001\n",
    "EPOCHS = 100\n",
    "\n",
    "device = torch.device('cuda' if torch.cuda.is_available() else 'cpu')\n",
    "print(f\"Using device: {device}\")\n",
    "\n",
    "# Load and sort the data\n",
    "data = pd.read_csv(\"../data/BTC Data 2013-12-27 2025-04-01.csv\")\n",
    "data['date'] = pd.to_datetime(data['date'])\n",
    "data = data.sort_values('date')\n",
    "\n",
    "print(f\"Data range: {data['date'].min()} to {data['date'].max()}\")\n",
    "print(f\"Total samples: {len(data)}\")"
   ]
  },
  {
   "cell_type": "markdown",
   "metadata": {},
   "source": [
    "Add extra features for cyclic trends in the Bitcoin history"
   ]
  },
  {
   "cell_type": "code",
   "execution_count": 88,
   "metadata": {},
   "outputs": [],
   "source": [
    "data['dayOfWeek'] = data['date'].dt.dayofweek\n",
    "data['dayOfMonth'] = data['date'].dt.day\n",
    "data['month'] = data['date'].dt.month\n",
    "data['quarter'] = data['date'].dt.quarter\n",
    "data['isWeekend'] = data['dayOfWeek'].apply(lambda x: 1 if x >= 5 else 0)"
   ]
  },
  {
   "cell_type": "markdown",
   "metadata": {},
   "source": [
    "Normalize the dataset"
   ]
  },
  {
   "cell_type": "code",
   "execution_count": 89,
   "metadata": {},
   "outputs": [],
   "source": [
    "feature_columns = ['open', 'high', 'low', 'volume', 'dayOfWeek', 'month']\n",
    "target_column = 'close'\n",
    "\n",
    "X = data[feature_columns].values\n",
    "y = data[target_column].values.reshape(-1, 1)\n",
    "\n",
    "X_scaler = MinMaxScaler(feature_range=(-1, 1))\n",
    "y_scaler = MinMaxScaler(feature_range=(-1, 1))\n",
    "X_normalized = X_scaler.fit_transform(X)\n",
    "y_normalized = y_scaler.fit_transform(y)"
   ]
  },
  {
   "cell_type": "markdown",
   "metadata": {},
   "source": [
    "Create custom dataset with the timeseries sequences"
   ]
  },
  {
   "cell_type": "code",
   "execution_count": 90,
   "metadata": {},
   "outputs": [
    {
     "name": "stdout",
     "output_type": "stream",
     "text": [
      "Train samples: 3735\n",
      "Test samples: 365\n"
     ]
    }
   ],
   "source": [
    "class TimeSeriesDataset(Dataset):\n",
    "\tdef __init__(self, X, y):\n",
    "\t\tself.X = torch.FloatTensor(X)\n",
    "\t\tself.y = torch.FloatTensor(y)\n",
    "\n",
    "\tdef __len__(self):\n",
    "\t\treturn len(self.X)\n",
    "\n",
    "\tdef __getitem__(self, i):\n",
    "\t\treturn self.X[i], self.y[i]\n",
    "\n",
    "def create_sequences(X, y, seq_length):\n",
    "\tX_seq, y_seq = [], []\n",
    "\t\n",
    "\tfor i in range(len(X) - seq_length):\n",
    "\t\tX_seq.append(X[i:i + seq_length])\n",
    "\t\ty_seq.append(y[i + seq_length])\n",
    "\t\t\n",
    "\treturn np.array(X_seq), np.array(y_seq)\n",
    "\n",
    "X_seq, y_seq = create_sequences(X_normalized, y_normalized, LOOKBACK_LENGTH)\n",
    "\n",
    "test_dates = data['date'].iloc[-TEST_LENGTH:]\n",
    "\n",
    "train_dataset = TimeSeriesDataset(X_seq[:-TEST_LENGTH], y_seq[:-TEST_LENGTH])\n",
    "test_dataset = TimeSeriesDataset(X_seq[-TEST_LENGTH:], y_seq[-TEST_LENGTH:])\n",
    "\n",
    "print(f\"Train samples: {len(train_dataset)}\")\n",
    "print(f\"Test samples: {len(test_dataset)}\")\n",
    "\n",
    "train_loader = DataLoader(train_dataset, batch_size=BATCH_SIZE, shuffle=True)\n",
    "test_loader = DataLoader(test_dataset, batch_size=BATCH_SIZE, shuffle=False)"
   ]
  },
  {
   "cell_type": "markdown",
   "metadata": {},
   "source": [
    "Create the model"
   ]
  },
  {
   "cell_type": "code",
   "execution_count": 91,
   "metadata": {},
   "outputs": [
    {
     "name": "stdout",
     "output_type": "stream",
     "text": [
      "LSTMPrediction(\n",
      "  (lstm): LSTM(6, 256, num_layers=4, batch_first=True, dropout=0.2)\n",
      "  (fc): Linear(in_features=256, out_features=1, bias=True)\n",
      ")\n"
     ]
    }
   ],
   "source": [
    "class LSTMPrediction(nn.Module):\n",
    "\tdef __init__(self, input_size, hidden_size, num_layers, output_size, dropout):\n",
    "\t\tsuper(LSTMPrediction, self).__init__()\n",
    "\n",
    "\t\tself.lstm = nn.LSTM(input_size, hidden_size, num_layers, batch_first=True, dropout=dropout if num_layers > 1 else 0.0)\n",
    "\n",
    "\t\tself.fc = nn.Linear(hidden_size, output_size)\n",
    "\n",
    "\tdef forward(self, x):\n",
    "\t\toutput, _ = self.lstm(x)\n",
    "\t\toutput = self.fc(output[:, -1, :])\n",
    "\t\treturn output\n",
    "\n",
    "model = LSTMPrediction(len(feature_columns), HIDDEN_SIZE, NUM_LAYERS, OUTPUT_SIZE, DROPOUT).to(device)\n",
    "print(model)"
   ]
  },
  {
   "cell_type": "markdown",
   "metadata": {},
   "source": [
    "Load a pretrained model"
   ]
  },
  {
   "cell_type": "code",
   "execution_count": 92,
   "metadata": {},
   "outputs": [],
   "source": [
    "#model.load_state_dict(torch.load(\"../weights/od_lstm-3l-256hs-0.2d-14lb-100e-ohlvdm.pth\"))"
   ]
  },
  {
   "cell_type": "markdown",
   "metadata": {},
   "source": [
    "Define loss function and training function with Adam optimizer"
   ]
  },
  {
   "cell_type": "code",
   "execution_count": 11,
   "metadata": {},
   "outputs": [
    {
     "ename": "KeyboardInterrupt",
     "evalue": "",
     "output_type": "error",
     "traceback": [
      "\u001b[1;31m---------------------------------------------------------------------------\u001b[0m",
      "\u001b[1;31mKeyboardInterrupt\u001b[0m                         Traceback (most recent call last)",
      "Cell \u001b[1;32mIn[11], line 31\u001b[0m\n\u001b[0;32m     28\u001b[0m criterion \u001b[38;5;241m=\u001b[39m nn\u001b[38;5;241m.\u001b[39mMSELoss()\n\u001b[0;32m     29\u001b[0m optimizer \u001b[38;5;241m=\u001b[39m torch\u001b[38;5;241m.\u001b[39moptim\u001b[38;5;241m.\u001b[39mAdam(model\u001b[38;5;241m.\u001b[39mparameters(), lr\u001b[38;5;241m=\u001b[39mLEARNING_RATE)\n\u001b[1;32m---> 31\u001b[0m model, train_losses \u001b[38;5;241m=\u001b[39m \u001b[43mtrain\u001b[49m\u001b[43m(\u001b[49m\u001b[43mmodel\u001b[49m\u001b[43m,\u001b[49m\u001b[43m \u001b[49m\u001b[43mtrain_loader\u001b[49m\u001b[43m,\u001b[49m\u001b[43m \u001b[49m\u001b[43mcriterion\u001b[49m\u001b[43m,\u001b[49m\u001b[43m \u001b[49m\u001b[43moptimizer\u001b[49m\u001b[43m,\u001b[49m\u001b[43m \u001b[49m\u001b[43mEPOCHS\u001b[49m\u001b[43m)\u001b[49m\n",
      "Cell \u001b[1;32mIn[11], line 20\u001b[0m, in \u001b[0;36mtrain\u001b[1;34m(model, train_loader, criterion, optimizer, epochs)\u001b[0m\n\u001b[0;32m     17\u001b[0m \tloss\u001b[38;5;241m.\u001b[39mbackward()\n\u001b[0;32m     18\u001b[0m \toptimizer\u001b[38;5;241m.\u001b[39mstep()\n\u001b[1;32m---> 20\u001b[0m \ttrain_loss \u001b[38;5;241m+\u001b[39m\u001b[38;5;241m=\u001b[39m \u001b[43mloss\u001b[49m\u001b[38;5;241;43m.\u001b[39;49m\u001b[43mitem\u001b[49m\u001b[43m(\u001b[49m\u001b[43m)\u001b[49m\n\u001b[0;32m     22\u001b[0m train_loss \u001b[38;5;241m/\u001b[39m\u001b[38;5;241m=\u001b[39m \u001b[38;5;28mlen\u001b[39m(train_loader)\n\u001b[0;32m     23\u001b[0m train_losses\u001b[38;5;241m.\u001b[39mappend(train_loss)\n",
      "\u001b[1;31mKeyboardInterrupt\u001b[0m: "
     ]
    }
   ],
   "source": [
    "def train(model, train_loader, criterion, optimizer, epochs=EPOCHS):\n",
    "\ttrain_losses = []\n",
    "\n",
    "\tfor epoch in range(epochs):\n",
    "\t\tmodel.train()\n",
    "\t\ttrain_loss = 0\n",
    "\t\tfor X_batch, y_batch in train_loader:\n",
    "\t\t\tX_batch = X_batch.to(device)\n",
    "\t\t\ty_batch = y_batch.to(device)\n",
    "\t\n",
    "\t\t\t# Predict the output\n",
    "\t\t\ty_pred = model(X_batch)\n",
    "\t\t\tloss = criterion(y_pred, y_batch)\n",
    "\n",
    "\t\t\t# Reset gradients, calculate new ones and update model parameters\n",
    "\t\t\toptimizer.zero_grad()\n",
    "\t\t\tloss.backward()\n",
    "\t\t\toptimizer.step()\n",
    "\n",
    "\t\t\ttrain_loss += loss.item()\n",
    "\n",
    "\t\ttrain_loss /= len(train_loader)\n",
    "\t\ttrain_losses.append(train_loss)\n",
    "\t\tprint(f\"Epoch {epoch+1}/{epochs}, Train Loss: {train_loss:.6f}\")\n",
    "\n",
    "\treturn model, train_losses\n",
    "\n",
    "criterion = nn.MSELoss()\n",
    "optimizer = torch.optim.Adam(model.parameters(), lr=LEARNING_RATE)\n",
    "\n",
    "model, train_losses = train(model, train_loader, criterion, optimizer, EPOCHS)"
   ]
  },
  {
   "cell_type": "code",
   "execution_count": 398,
   "metadata": {},
   "outputs": [],
   "source": [
    "torch.save(model.state_dict(), f\"../weights/od_lstm-{NUM_LAYERS}l-{HIDDEN_SIZE}hs-{DROPOUT}d-{LOOKBACK_LENGTH}lb-{EPOCHS}e-ohlvdm.pth\")"
   ]
  },
  {
   "cell_type": "code",
   "execution_count": 93,
   "metadata": {},
   "outputs": [
    {
     "name": "stderr",
     "output_type": "stream",
     "text": [
      "C:\\Users\\Hugo\\AppData\\Local\\Temp\\ipykernel_21592\\1822408117.py:1: FutureWarning: You are using `torch.load` with `weights_only=False` (the current default value), which uses the default pickle module implicitly. It is possible to construct malicious pickle data which will execute arbitrary code during unpickling (See https://github.com/pytorch/pytorch/blob/main/SECURITY.md#untrusted-models for more details). In a future release, the default value for `weights_only` will be flipped to `True`. This limits the functions that could be executed during unpickling. Arbitrary objects will no longer be allowed to be loaded via this mode unless they are explicitly allowlisted by the user via `torch.serialization.add_safe_globals`. We recommend you start setting `weights_only=True` for any use case where you don't have full control of the loaded file. Please open an issue on GitHub for any issues related to this experimental feature.\n",
      "  model.load_state_dict(torch.load(\"../weights/od_lstm-4l-256hs-0.2d-14lb-75e-ohlvdm.pth\"))\n"
     ]
    },
    {
     "data": {
      "text/plain": [
       "<All keys matched successfully>"
      ]
     },
     "execution_count": 93,
     "metadata": {},
     "output_type": "execute_result"
    }
   ],
   "source": [
    "model.load_state_dict(torch.load(\"../weights/od_lstm-4l-256hs-0.2d-14lb-75e-ohlvdm.pth\"))"
   ]
  },
  {
   "cell_type": "markdown",
   "metadata": {},
   "source": [
    "Evaluate the model"
   ]
  },
  {
   "cell_type": "code",
   "execution_count": 94,
   "metadata": {},
   "outputs": [
    {
     "name": "stdout",
     "output_type": "stream",
     "text": [
      "Test Loss: 0.002267\n",
      "\n",
      "Normalized\n",
      "MSE: 0.002223\n",
      "RMSE: 0.047147\n",
      "MAE: 0.036376\n",
      "MAPE: 0.167677\n",
      "\n",
      "Unnormalized\n",
      "MSE: 6240294.000000\n",
      "RMSE: 2498.058105\n",
      "MAE: 1927.362305\n",
      "MAPE: 0.025495\n"
     ]
    }
   ],
   "source": [
    "def evaluate(model, test_loader, criterion):\n",
    "\tmodel.eval()\n",
    "\ttest_loss = 0\n",
    "\tpredictions = []\n",
    "\ttruths = []\n",
    "\n",
    "\twith torch.no_grad():\n",
    "\t\tfor X_batch, y_batch in test_loader:\n",
    "\t\t\tX_batch = X_batch.to(device)\n",
    "\t\t\ty_batch = y_batch.to(device)\n",
    "\t\n",
    "\t\t\ty_pred = model(X_batch)\n",
    "\t\t\tloss = criterion(y_pred, y_batch)\n",
    "\n",
    "\t\t\ttest_loss += loss.item()\n",
    "\n",
    "\t\t\t# Add the predicted and actual values for plotting\n",
    "\t\t\t# Move to the CPU and convert the tensor to a numpy array\n",
    "\t\t\tpredictions.append(y_pred.cpu().numpy())\n",
    "\t\t\ttruths.append(y_batch.cpu().numpy())\n",
    "\n",
    "\ttest_loss /= len(test_loader)\n",
    "\n",
    "\tpredictions = np.concatenate(predictions, axis=0)\n",
    "\ttruths = np.concatenate(truths, axis=0)\n",
    "\n",
    "\tmse = np.mean((predictions - truths) ** 2)\n",
    "\trmse = np.sqrt(mse)\n",
    "\tmae = np.mean(np.abs(predictions - truths))\n",
    "\tmape = np.mean(np.abs((truths - predictions) / truths))\n",
    "\n",
    "\t#print(f\"Train Loss: {train_losses[-1]:.6f}\")\n",
    "\tprint(f\"Test Loss: {test_loss:.6f}\")\n",
    "\n",
    "\tprint(\"\\nNormalized\")\n",
    "\tprint(f\"MSE: {mse:.6f}\")\n",
    "\tprint(f\"RMSE: {rmse:.6f}\")\n",
    "\tprint(f\"MAE: {mae:.6f}\")\n",
    "\tprint(f\"MAPE: {mape:.6f}\")\n",
    "\n",
    "\t# Inverse the normalization to get the actual BTC prices\n",
    "\tpredictions = y_scaler.inverse_transform(predictions)\n",
    "\ttruths = y_scaler.inverse_transform(truths)\n",
    "\n",
    "\tmse = np.mean((predictions - truths) ** 2)\n",
    "\trmse = np.sqrt(mse)\n",
    "\tmae = np.mean(np.abs(predictions - truths))\n",
    "\tmape = np.mean(np.abs((truths - predictions) / truths))\n",
    "\tprint(\"\\nUnnormalized\")\n",
    "\tprint(f\"MSE: {mse:.6f}\")\n",
    "\tprint(f\"RMSE: {rmse:.6f}\")\n",
    "\tprint(f\"MAE: {mae:.6f}\")\n",
    "\tprint(f\"MAPE: {mape:.6f}\")\n",
    "\n",
    "\treturn predictions, truths\n",
    "\n",
    "predictions, actuals = evaluate(model, test_loader, criterion)\n"
   ]
  },
  {
   "cell_type": "code",
   "execution_count": 96,
   "metadata": {},
   "outputs": [
    {
     "data": {
      "image/png": "[encoded data removed]",
      "text/plain": [
       "<Figure size 640x480 with 1 Axes>"
      ]
     },
     "metadata": {},
     "output_type": "display_data"
    }
   ],
   "source": [
    "\"\"\" plt.plot(train_losses[2:], label='Training Loss')\n",
    "plt.xlabel('Epochs')\n",
    "plt.ylabel('Loss')\n",
    "plt.title('Training Loss')\n",
    "plt.legend()\n",
    "plt.show() \"\"\"\n",
    "\n",
    "plt.plot(test_dates, actuals, label='Actual Prices')\n",
    "plt.plot(test_dates, predictions, label='Predicted Prices')\n",
    "plt.xlabel('Date')\n",
    "plt.ylabel('BTC Price (USD)')\n",
    "plt.title('BTC Price Prediction')\n",
    "plt.legend()\n",
    "plt.show()"
   ]
  },
  {
   "cell_type": "code",
   "execution_count": null,
   "metadata": {},
   "outputs": [],
   "source": []
  }
 ],
 "metadata": {
  "kernelspec": {
   "display_name": "Python 3",
   "language": "python",
   "name": "python3"
  },
  "language_info": {
   "codemirror_mode": {
    "name": "ipython",
    "version": 3
   },
   "file_extension": ".py",
   "mimetype": "text/x-python",
   "name": "python",
   "nbconvert_exporter": "python",
   "pygments_lexer": "ipython3",
   "version": "3.11.4"
  }
 },
 "nbformat": 4,
 "nbformat_minor": 2
}
